{
 "cells": [
  {
   "cell_type": "markdown",
   "metadata": {},
   "source": [
    "# Pandas ile Veri Analizi"
   ]
  },
  {
   "cell_type": "markdown",
   "metadata": {},
   "source": [
    "## Soru 1:\n",
    "* Kaggle'in 2020 yılı için üyeleriyle yaptığı anket sonuçlarını içeren ekteki \"kaggle_survey_2020_responses.csv\" dosyasını 2. satırı atlayarak ```survey``` adlı DataFrame'e okuyun.\n",
    "* İlk sütunu silin.\n",
    "* Q1, Q2, Q3, Q4, Q5 ve Q6 sütun isimlerini sırasıyla Age, Gender, Country, Education, Occupation ve Coding Experience olacak şekilde değiştirin.\n",
    "* Education, Occupation ve Coding Experience sütunlarından herhangi birisisinde ```NaN``` değeri olan satırları siliniz. Kaç satır silindi?\n",
    "* En son oluşan DataFrame'in satır ve sütun sayısını yazdırın."
   ]
  },
  {
   "cell_type": "code",
   "execution_count": 1,
   "metadata": {},
   "outputs": [
    {
     "name": "stdout",
     "output_type": "stream",
     "text": [
      "916 tane satır silindi\n",
      "(19120, 354)\n"
     ]
    }
   ],
   "source": [
    "import pandas as pd\n",
    "import numpy as np\n",
    "#import seaborn as sns\n",
    "df= pd.read_csv(\"kaggle_survey_2020_responses.csv\", skiprows=[1])\n",
    "del df['Time from Start to Finish (seconds)']\n",
    "df.rename(inplace=True,columns={\"Q1\":\"Age\",'Q2':'Gender','Q3':'Country','Q4':'Education','Q5':'Occupation','Q6':'CodingExperience'})\n",
    "nanLinesBefore=df.shape[0]\n",
    "df=df.dropna(subset=[\"Education\",\"Occupation\",\"CodingExperience\"])\n",
    "nanLinesAfter=df.shape[0]\n",
    "deletedLineNumbers=nanLinesBefore-nanLinesAfter\n",
    "print(f\"{deletedLineNumbers} tane satır silindi\")\n",
    "print(df.shape)"
   ]
  },
  {
   "cell_type": "markdown",
   "metadata": {},
   "source": [
    "## Soru 2:\n",
    "Ankete katılanların yaş aralık dağılımını pasta grafiği ile gösteriniz."
   ]
  },
  {
   "cell_type": "code",
   "execution_count": 2,
   "metadata": {},
   "outputs": [
    {
     "data": {
      "text/plain": [
       "<AxesSubplot:ylabel='Age'>"
      ]
     },
     "execution_count": 2,
     "metadata": {},
     "output_type": "execute_result"
    },
    {
     "data": {
      "image/png": "[encoded data removed]",
      "text/plain": [
       "<Figure size 432x288 with 1 Axes>"
      ]
     },
     "metadata": {},
     "output_type": "display_data"
    }
   ],
   "source": [
    "import matplotlib.pyplot as plt\n",
    "df['Age'].value_counts().plot.pie()"
   ]
  },
  {
   "cell_type": "markdown",
   "metadata": {},
   "source": [
    "## Soru 3:\n",
    "Türkiye'den ankete katılanların eğitim seviyelerine göre sayılarını listeleyiniz."
   ]
  },
  {
   "cell_type": "code",
   "execution_count": 3,
   "metadata": {},
   "outputs": [
    {
     "data": {
      "text/plain": [
       "Bachelor’s degree                                                    129\n",
       "Master’s degree                                                      111\n",
       "Doctoral degree                                                       50\n",
       "Some college/university study without earning a bachelor’s degree     15\n",
       "I prefer not to answer                                                 8\n",
       "Professional degree                                                    6\n",
       "No formal education past high school                                   3\n",
       "Name: Education, dtype: int64"
      ]
     },
     "execution_count": 3,
     "metadata": {},
     "output_type": "execute_result"
    }
   ],
   "source": [
    "df.groupby('Country').get_group('Turkey')['Education'].value_counts()"
   ]
  },
  {
   "cell_type": "markdown",
   "metadata": {},
   "source": [
    "## Soru 4:\n",
    "Her bir yaş aralığı için en çok yapılan meslek ismini (```Occupation```) listeleyiniz."
   ]
  },
  {
   "cell_type": "code",
   "execution_count": 4,
   "metadata": {},
   "outputs": [
    {
     "name": "stdout",
     "output_type": "stream",
     "text": [
      "45-49 yaş aralığında en çok yapılan meslek ismi Other\n",
      "22-24 yaş aralığında en çok yapılan meslek ismi Student\n",
      "70+ yaş aralığında en çok yapılan meslek ismi Data Scientist\n",
      "18-21 yaş aralığında en çok yapılan meslek ismi Student\n",
      "25-29 yaş aralığında en çok yapılan meslek ismi Student\n",
      "35-39 yaş aralığında en çok yapılan meslek ismi Data Scientist\n",
      "40-44 yaş aralığında en çok yapılan meslek ismi Data Scientist\n",
      "30-34 yaş aralığında en çok yapılan meslek ismi Data Scientist\n",
      "50-54 yaş aralığında en çok yapılan meslek ismi Other\n",
      "55-59 yaş aralığında en çok yapılan meslek ismi Other\n",
      "60-69 yaş aralığında en çok yapılan meslek ismi Other\n"
     ]
    }
   ],
   "source": [
    "Ages = df.Age.values\n",
    "Ages = list(set(Ages))\n",
    "for x in Ages:\n",
    "    max = df.groupby('Age').get_group(x)['Occupation'].value_counts().idxmax()\n",
    "    print(f\"{x} yaş aralığında en çok yapılan meslek ismi {max}\")\n"
   ]
  },
  {
   "cell_type": "markdown",
   "metadata": {},
   "source": [
    "## Soru 5:\n",
    "* Her bir programlama dilinin kaç anket katılımcısı tarafından kullanıldığını bulup büyükten küçüğe sıralayınız.\n",
    "* Her bir programlama dilinin kaç ```Data Scientist``` tarafından kullanıldığını bulup büyükten küçüğe sıralayınız. \n",
    "* Her iki sonucu aynı figürde yan yana iki alt grafik (subplot) olarak gösteriniz. Grafiklere uygun birer başlık (```title```) atayınız."
   ]
  },
  {
   "cell_type": "code",
   "execution_count": 5,
   "metadata": {},
   "outputs": [
    {
     "data": {
      "text/plain": [
       "<AxesSubplot:>"
      ]
     },
     "execution_count": 5,
     "metadata": {},
     "output_type": "execute_result"
    },
    {
     "data": {
      "image/png": "[encoded data removed]",
      "text/plain": [
       "<Figure size 432x288 with 2 Axes>"
      ]
     },
     "metadata": {
      "needs_background": "light"
     },
     "output_type": "display_data"
    }
   ],
   "source": [
    "method1 = [x for x in df if x.startswith('Q7')]\n",
    "dict1={}\n",
    "for i in method1:\n",
    "    dict1.update(df[i].value_counts())\n",
    "sorted_dict1 = sorted(dict1.items() , key=lambda item: item[1], reverse=True)\n",
    "\n",
    "dict2={}\n",
    "for i in method1:\n",
    "    dict2.update(df.groupby('Occupation').get_group('Data Scientist')[i].value_counts())\n",
    "sorted_dict2 = sorted(dict2.items() , key=lambda item: item[1], reverse=True)\n",
    "#print(sorted_dict2)\n",
    "fig, axes = plt.subplots(1, 2)\n",
    "data = pd.Series(dict1, index=dict1)\n",
    "data2 = pd.Series(dict2, index=dict2)\n",
    "data.plot.bar(ax=axes[0], color='k')\n",
    "data2.plot.bar(ax=axes[1], color='k')"
   ]
  },
  {
   "cell_type": "markdown",
   "metadata": {},
   "source": [
    "## Soru 6:\n",
    "Yatay eksende kodlama deneyimi, dikey eksende makine öğrenmesi metotlarını kullanan ```Data Scientist``` sayısı olacak şekilde bir sütun grafiği çiziniz."
   ]
  },
  {
   "cell_type": "code",
   "execution_count": 6,
   "metadata": {},
   "outputs": [
    {
     "data": {
      "text/plain": [
       "<AxesSubplot:xlabel='CodingExperience'>"
      ]
     },
     "execution_count": 6,
     "metadata": {},
     "output_type": "execute_result"
    },
    {
     "data": {
      "image/png": "[encoded data removed]",
      "text/plain": [
       "<Figure size 432x288 with 1 Axes>"
      ]
     },
     "metadata": {
      "needs_background": "light"
     },
     "output_type": "display_data"
    }
   ],
   "source": [
    "import pandas as pd\n",
    "DataScientist = df[df.Occupation=='Data Scientist'].groupby('CodingExperience')['Q15']\n",
    "DataScientist.size().plot(kind='bar',x='CodingExperience',y='Q15')"
   ]
  },
  {
   "cell_type": "markdown",
   "metadata": {},
   "source": [
    "## Soru 7:\n",
    "* Yalnızca scikit-learn framework'ünü kullananların kullandıkları makine öğrenmesi algoritmalarının kullanıcı sayılarını büyükten küçüğe listeleyiniz.\n",
    "* Scikit-learn, tensorflow ve keras kütüphanelerini düzenli olarak kullanan kişi sayısı kaçtır?"
   ]
  },
  {
   "cell_type": "code",
   "execution_count": 7,
   "metadata": {},
   "outputs": [
    {
     "name": "stdout",
     "output_type": "stream",
     "text": [
      "{('  Scikit-learn ', 'Linear or Logistic Regression'): 8382, ('  Scikit-learn ', 'Decision Trees or Random Forests'): 7340, ('  Scikit-learn ', 'Gradient Boosting Machines (xgboost, lightgbm, etc)'): 4507, ('  Scikit-learn ', 'Bayesian Approaches'): 2886, ('  Scikit-learn ', 'Evolutionary Approaches'): 523, ('  Scikit-learn ', 'Dense Neural Networks (MLPs, etc)'): 2739, ('  Scikit-learn ', 'Convolutional Neural Networks'): 4679, ('  Scikit-learn ', 'Generative Adversarial Networks'): 792, ('  Scikit-learn ', 'Recurrent Neural Networks'): 2795, ('  Scikit-learn ', 'Transformer Networks (BERT, gpt-3, etc)'): 1064, ('  Scikit-learn ', 'None'): 211, ('  Scikit-learn ', 'Other'): 292}\n",
      "\n",
      "\n",
      "Q16_Part_1       Q16_Part_2     Q16_Part_3\n",
      "  Scikit-learn     TensorFlow    Keras        4406\n",
      "dtype: int64\n"
     ]
    }
   ],
   "source": [
    "method3 = [x for x in df if x.startswith('Q17')]\n",
    "dict3={}\n",
    "for i in method3:\n",
    "    dict3.update(df.groupby('Q16_Part_1')[i].value_counts())\n",
    "sorted_dict3 = sorted(dict3.items() , key=lambda item: item[1], reverse=True)\n",
    "print(dict3)\n",
    "\n",
    "dataSTK=df.filter(items=['Q16_Part_1', 'Q16_Part_2','Q16_Part_3']).dropna().value_counts()\n",
    "print('\\n')\n",
    "print(dataSTK)"
   ]
  },
  {
   "cell_type": "markdown",
   "metadata": {},
   "source": [
    "## Soru 8:\n",
    "* Ortalama yıllık maaşı en yüksek olan meslek (```Occupation```) nedir? ```Data Scientist``` kaçıncı sıradadır? **Not:** Aralık olarak verilen maaşların orta noktasını maaş değeri olarak alıp ```ConvertedComp``` isimli yeni bir sütun ekleyiniz.\n",
    "* ```Data Scientist``` olarak çalışanların ülke bazında ortalama yıllık maaşlarını büyükten küçüğe sıralayın, ilk 10 ülkeyi ve bu ülkelerdeki ortalama yıllık ```Data Scientist``` maaşlarını listeleyin.\n",
    "* 250’den fazla kişi çalışan kurumdakilerin ortalama maaşları ne kadardır?\n",
    "* Hesaplanan maaş (```ConvertedComp```) sütununu kullanarak ülke bazlı ortalama, standart sapma ve medyan değerlerinden oluşan bir dataframe oluşturun ve listeleyin. Türkiye kaçıncı sıradadır ve değeri kaçtır?"
   ]
  },
  {
   "cell_type": "code",
   "execution_count": 8,
   "metadata": {},
   "outputs": [
    {
     "name": "stdout",
     "output_type": "stream",
     "text": [
      "Index of Data Scientist : 4\n",
      "Turkey index is : 49\n"
     ]
    },
    {
     "data": {
      "text/html": [
       "<div>\n",
       "<style scoped>\n",
       "    .dataframe tbody tr th:only-of-type {\n",
       "        vertical-align: middle;\n",
       "    }\n",
       "\n",
       "    .dataframe tbody tr th {\n",
       "        vertical-align: top;\n",
       "    }\n",
       "\n",
       "    .dataframe thead th {\n",
       "        text-align: right;\n",
       "    }\n",
       "</style>\n",
       "<table border=\"1\" class=\"dataframe\">\n",
       "  <thead>\n",
       "    <tr style=\"text-align: right;\">\n",
       "      <th></th>\n",
       "      <th>mean</th>\n",
       "      <th>std</th>\n",
       "      <th>median</th>\n",
       "    </tr>\n",
       "    <tr>\n",
       "      <th>Country</th>\n",
       "      <th></th>\n",
       "      <th></th>\n",
       "      <th></th>\n",
       "    </tr>\n",
       "  </thead>\n",
       "  <tbody>\n",
       "    <tr>\n",
       "      <th>Turkey</th>\n",
       "      <td>5287.0</td>\n",
       "      <td>6636.361764</td>\n",
       "      <td>2499.5</td>\n",
       "    </tr>\n",
       "  </tbody>\n",
       "</table>\n",
       "</div>"
      ],
      "text/plain": [
       "           mean          std  median\n",
       "Country                             \n",
       "Turkey   5287.0  6636.361764  2499.5"
      ]
     },
     "execution_count": 8,
     "metadata": {},
     "output_type": "execute_result"
    }
   ],
   "source": [
    "Q24list=df['Q24'].value_counts()\n",
    "ab=df['Q24'].dropna().tolist()\n",
    "newQ24=[]\n",
    "for i in ab:\n",
    "    index1=\"\"\n",
    "    index2=\"\"\n",
    "    x=i.find(\"-\")\n",
    "    if(x!=-1):\n",
    "        for j in range(0,x):\n",
    "            if(i[j]!=\"$\" and i[j]!=\",\"):\n",
    "                index1+=i[j]\n",
    "        for j in range(x+1,len(i)):\n",
    "            if(i[j]!=\",\"):\n",
    "                index2+=i[j] \n",
    "        newIndex=(int(index2) - int(index1))/2\n",
    "        newQ24.append(newIndex)\n",
    "    else:\n",
    "        y=i.find(\"$\")\n",
    "        for j in range(y+1,len(i)):\n",
    "            if(i[j]!=\",\"):\n",
    "                index2+=i[j]\n",
    "        newQ24.append(newIndex)\n",
    "\n",
    "dfDrop=df.dropna(subset=[\"Q24\"])\n",
    "df=dfDrop.assign(ConvertedComp=pd.Series(newQ24))\n",
    "df=df.dropna(subset=[\"ConvertedComp\"])\n",
    "means=df.groupby('Occupation')['ConvertedComp'].mean().sort_values(ascending=False)\n",
    "means.idxmax()\n",
    "print(f\"Index of Data Scientist : {means.keys().tolist().index('Data Scientist')}\")\n",
    "df[df.Occupation=='Data Scientist'].groupby('Country')['ConvertedComp'].mean().sort_values(ascending=True).head(10)\n",
    "df[(df.Q20=='250-999 employees')|(df.Q20=='1000-9,999 employees')|(df.Q20=='10,000 or more employees')].ConvertedComp.mean()\n",
    "pilot = df.groupby('Country')['ConvertedComp'].agg(['mean','std','median'])\n",
    "indexTr = pilot.index.tolist().index('Turkey')\n",
    "print(f\"Turkey index is : {indexTr}\")\n",
    "pilot[pilot.index=='Turkey']"
   ]
  },
  {
   "cell_type": "markdown",
   "metadata": {},
   "source": [
    "## Soru 9:\n",
    "Lisans, yüksek lisans ve doktora mezunlarına ilişkin (ayrı ayrı); yatay eksende kodlama deneyimi (artan sırada olmalıdır), dikey eksende ortalama maaş bilgisi olacak şekilde tek bir çizgi grafiği çiziniz."
   ]
  },
  {
   "cell_type": "code",
   "execution_count": 9,
   "metadata": {},
   "outputs": [
    {
     "data": {
      "text/plain": [
       "<matplotlib.legend.Legend at 0x2048804fdf0>"
      ]
     },
     "execution_count": 9,
     "metadata": {},
     "output_type": "execute_result"
    },
    {
     "data": {
      "image/png": "[encoded data removed]",
      "text/plain": [
       "<Figure size 432x288 with 1 Axes>"
      ]
     },
     "metadata": {
      "needs_background": "light"
     },
     "output_type": "display_data"
    }
   ],
   "source": [
    "ax = plt.gca()\n",
    "dataEducation = df.filter(items=['Education','ConvertedComp','CodingExperience'])\n",
    "dataEducation[(dataEducation.Education=='Bachelor’s degree')].value_counts().plot.line(subplots=True,x='CodingExperience',y='ConvertedComp',ax=ax)\n",
    "dataEducation[(dataEducation.Education=='Master’s degree')].value_counts().plot.line(subplots=True,x='CodingExperience',y='ConvertedComp',color=\"red\",ax=ax)\n",
    "dataEducation[(dataEducation.Education=='Doctoral degree')].value_counts().plot.line(subplots=True,x='CodingExperience',y='ConvertedComp',color=\"green\",ax=ax)\n",
    "plt.legend(['Bachelor’s degree','Master’s degree','Doctoral degree'])"
   ]
  },
  {
   "cell_type": "markdown",
   "metadata": {},
   "source": [
    "## Soru 10:\n",
    "* Mesleklerdeki (```Occupation```) cinsiyet dağılımını, yatay yığılmış \"stacked\" sütun grafik olarak gösteriniz.\n",
    "* Her meslek (```Occupation```) için kadın oranını bulup büyükten küçüğe sıralayınız.\n",
    "* Şu anda çalışmayan kadın ve erkek oranlarını listeleyiniz."
   ]
  },
  {
   "cell_type": "code",
   "execution_count": 10,
   "metadata": {},
   "outputs": [
    {
     "name": "stdout",
     "output_type": "stream",
     "text": [
      "Student                      0.240766\n",
      "Statistician                 0.237931\n",
      "Data Analyst                 0.235932\n",
      "Currently not employed       0.227603\n",
      "Research Scientist           0.203578\n",
      "Business Analyst             0.195489\n",
      "Other                        0.168106\n",
      "Data Scientist               0.163677\n",
      "Data Engineer                0.137300\n",
      "Software Engineer            0.132114\n",
      "DBA/Database Engineer        0.128000\n",
      "Machine Learning Engineer    0.125693\n",
      "Product/Project Manager      0.112717\n",
      "Name: Occupation, dtype: float64\n",
      "\n",
      "\n",
      "Şu anda çalışmayan kadın oranı : 0.09695719443011862\n",
      "Şu anda çalışmayan erkek oranı : 0.07821901323706378\n"
     ]
    },
    {
     "data": {
      "image/png": "[encoded data removed]",
      "text/plain": [
       "<Figure size 432x288 with 1 Axes>"
      ]
     },
     "metadata": {
      "needs_background": "light"
     },
     "output_type": "display_data"
    }
   ],
   "source": [
    "occupation_gender = df.groupby(['Occupation', 'Gender'])\n",
    "occupation_gender.size().unstack().plot(kind='barh', stacked=True)\n",
    "\n",
    "#Currently not employed verisi 0 çıktığı için filterelenmemiş şekilde veri setini tekrar okuttum\n",
    "dataf1= pd.read_csv(\"kaggle_survey_2020_responses.csv\", skiprows=[1])\n",
    "del dataf1['Time from Start to Finish (seconds)']\n",
    "dataf1.rename(inplace=True,columns={\"Q1\":\"Age\",'Q2':'Gender','Q3':'Country','Q4':'Education','Q5':'Occupation','Q6':'CodingExperience'})\n",
    "\n",
    "total = dataf1.Occupation.value_counts()\n",
    "women = dataf1[dataf1.Gender=='Woman'].Occupation.value_counts()\n",
    "percentage = women/total\n",
    "print(percentage.sort_values(ascending=False))\n",
    "print(\"\\n\")\n",
    "totalwomen2=len(dataf1[dataf1.Gender=='Woman'])\n",
    "totalmen=len(dataf1[dataf1.Gender=='Man'])\n",
    "women2 = dataf1[(dataf1.Occupation=='Currently not employed')&(dataf1.Gender=='Woman')].Gender.count()\n",
    "men = dataf1[(dataf1.Occupation=='Currently not employed')&(dataf1.Gender=='Man')].Gender.count()\n",
    "percentageWomen = women2/totalwomen2\n",
    "print(f\"Şu anda çalışmayan kadın oranı : {percentageWomen}\")\n",
    "percentageMen = men/totalmen\n",
    "print(f\"Şu anda çalışmayan erkek oranı : {percentageMen}\")"
   ]
  },
  {
   "cell_type": "markdown",
   "metadata": {},
   "source": [
    "### Soru 11:\n",
    "\n",
    "Ankete katılan kadınlardan ortalama çalışma süresi 3 yılın üzerinde olanlar için:\n",
    "* Kadın katılımcı sayısının en yüksek olduğu ülke hangisidir?\n",
    "* Türkiye'den ankete katılan kadınların eğitim durumlarını pasta grafiğinde gösteriniz."
   ]
  },
  {
   "cell_type": "code",
   "execution_count": 11,
   "metadata": {},
   "outputs": [
    {
     "name": "stdout",
     "output_type": "stream",
     "text": [
      "India    480\n",
      "Name: Country, dtype: int64\n"
     ]
    },
    {
     "data": {
      "text/plain": [
       "<AxesSubplot:ylabel='Education'>"
      ]
     },
     "execution_count": 11,
     "metadata": {},
     "output_type": "execute_result"
    },
    {
     "data": {
      "image/png": "[encoded data removed]",
      "text/plain": [
       "<Figure size 432x288 with 1 Axes>"
      ]
     },
     "metadata": {},
     "output_type": "display_data"
    }
   ],
   "source": [
    "maxWoman=dataf1[(dataf1.Gender=='Woman')&((dataf1.CodingExperience=='3-5 years')|(dataf1.CodingExperience=='5-10 years')|(dataf1.CodingExperience=='10-20 years')|(dataf1.CodingExperience=='20+ years'))].Country.value_counts()\n",
    "print(maxWoman.head(1))\n",
    "dataf1[dataf1.Country=='Turkey'].groupby('Gender').get_group('Woman').Education.value_counts().plot(kind=\"pie\")"
   ]
  },
  {
   "cell_type": "markdown",
   "metadata": {},
   "source": [
    "## Soru 12:\n",
    "* 39. soru ile ilgili sütunlarda yer alan değerlerdeki parantez içi ifadeleri siliniz.\n",
    "* 18-21 yaş aralığında olan katılımcıların favori sosyal medya platformu nedir?"
   ]
  },
  {
   "cell_type": "code",
   "execution_count": 12,
   "metadata": {},
   "outputs": [
    {
     "name": "stdout",
     "output_type": "stream",
     "text": [
      "{'Twitter ': 1128, 'Email newsletters ': 1064, 'Reddit ': 794, 'Kaggle ': 3002, 'Course Forums ': 818, 'YouTube ': 2542, 'Podcasts ': 633, 'Blogs ': 2473, 'Journal Publications ': 1083, 'Slack Communities ': 617, 'Non': 231, 'Othe': 182}\n"
     ]
    },
    {
     "data": {
      "text/plain": [
       "('Kaggle (notebooks, forums, etc)', 129)"
      ]
     },
     "execution_count": 12,
     "metadata": {},
     "output_type": "execute_result"
    }
   ],
   "source": [
    "method5 = [x for x in df if x.startswith('Q39')]\n",
    "keys = []\n",
    "dictY={}\n",
    "for i in method5:\n",
    "    dictY.update(df[i].value_counts())\n",
    "for j in dictY.keys():\n",
    "    change = \"\"\n",
    "    index = j.find(\"(\")\n",
    "    for k in range(index,len(j)):\n",
    "        change += j[k]\n",
    "    keys.append(j[:index])\n",
    "\n",
    "values = dictY.values()\n",
    "dictX = dict(zip(keys,values))\n",
    "print(dictX)\n",
    "dictGender = {}\n",
    "for i in method5:\n",
    "    dictGender.update(df.groupby('Age').get_group('18-21')[i].value_counts())\n",
    "sorted_dictGender = sorted(dictGender.items() , key=lambda item: item[1], reverse=True)\n",
    "sorted_dictGender[0]"
   ]
  },
  {
   "cell_type": "markdown",
   "metadata": {},
   "source": [
    "## Soru 13:\n",
    "* https://download.geonames.org/export/dump/countryInfo.txt adresindeki veriyi:\n",
    "    * ilk 49 satırını ihmal ederek\n",
    "    * yalnızca ```#ISO, Country, neighbours``` sütunlarını kullanarak \n",
    "    * ```Country``` sütununu indeks sütun olarak  \n",
    "    \n",
    "okuyarak __country_info__ adlı DataFrame'e aktarınız.\n",
    "* ```#ISO``` sütununun ismini ```Country Code``` olarak değiştiriniz.\n",
    "* ```survey``` ve ```country_info``` adlı DataFrame'leri ülke bazında birleştirip ```merged_survey``` adında yeni bir dataframe'e aktarınız."
   ]
  },
  {
   "cell_type": "code",
   "execution_count": 13,
   "metadata": {},
   "outputs": [
    {
     "name": "stderr",
     "output_type": "stream",
     "text": [
      "<ipython-input-13-f3de5d767eb1>:2: ParserWarning: Falling back to the 'python' engine because the 'c' engine does not support regex separators (separators > 1 char and different from '\\s+' are interpreted as regex); you can avoid this warning by specifying engine='python'.\n",
      "  country_info = pd.read_csv('countryInfo.csv',sep='\\t+',skiprows=[i for i in range(0,49)],index_col='Country')\n"
     ]
    },
    {
     "data": {
      "text/html": [
       "<div>\n",
       "<style scoped>\n",
       "    .dataframe tbody tr th:only-of-type {\n",
       "        vertical-align: middle;\n",
       "    }\n",
       "\n",
       "    .dataframe tbody tr th {\n",
       "        vertical-align: top;\n",
       "    }\n",
       "\n",
       "    .dataframe thead th {\n",
       "        text-align: right;\n",
       "    }\n",
       "</style>\n",
       "<table border=\"1\" class=\"dataframe\">\n",
       "  <thead>\n",
       "    <tr style=\"text-align: right;\">\n",
       "      <th></th>\n",
       "      <th>Country</th>\n",
       "      <th>CountryCode</th>\n",
       "      <th>neighbours</th>\n",
       "      <th>Age</th>\n",
       "      <th>Gender</th>\n",
       "      <th>Education</th>\n",
       "      <th>Occupation</th>\n",
       "      <th>CodingExperience</th>\n",
       "      <th>Q7_Part_1</th>\n",
       "      <th>Q7_Part_2</th>\n",
       "      <th>...</th>\n",
       "      <th>Q35_B_Part_3</th>\n",
       "      <th>Q35_B_Part_4</th>\n",
       "      <th>Q35_B_Part_5</th>\n",
       "      <th>Q35_B_Part_6</th>\n",
       "      <th>Q35_B_Part_7</th>\n",
       "      <th>Q35_B_Part_8</th>\n",
       "      <th>Q35_B_Part_9</th>\n",
       "      <th>Q35_B_Part_10</th>\n",
       "      <th>Q35_B_OTHER</th>\n",
       "      <th>ConvertedComp</th>\n",
       "    </tr>\n",
       "  </thead>\n",
       "  <tbody>\n",
       "    <tr>\n",
       "      <th>0</th>\n",
       "      <td>United Arab Emirates</td>\n",
       "      <td>\"AE</td>\n",
       "      <td>None</td>\n",
       "      <td>30-34</td>\n",
       "      <td>Man</td>\n",
       "      <td>Master’s degree</td>\n",
       "      <td>Research Scientist</td>\n",
       "      <td>5-10 years</td>\n",
       "      <td>Python</td>\n",
       "      <td>NaN</td>\n",
       "      <td>...</td>\n",
       "      <td>NaN</td>\n",
       "      <td>NaN</td>\n",
       "      <td>NaN</td>\n",
       "      <td>NaN</td>\n",
       "      <td>NaN</td>\n",
       "      <td>NaN</td>\n",
       "      <td>NaN</td>\n",
       "      <td>NaN</td>\n",
       "      <td>NaN</td>\n",
       "      <td>2499.5</td>\n",
       "    </tr>\n",
       "    <tr>\n",
       "      <th>1</th>\n",
       "      <td>United Arab Emirates</td>\n",
       "      <td>\"AE</td>\n",
       "      <td>None</td>\n",
       "      <td>40-44</td>\n",
       "      <td>Man</td>\n",
       "      <td>Professional degree</td>\n",
       "      <td>Other</td>\n",
       "      <td>I have never written code</td>\n",
       "      <td>NaN</td>\n",
       "      <td>NaN</td>\n",
       "      <td>...</td>\n",
       "      <td>NaN</td>\n",
       "      <td>NaN</td>\n",
       "      <td>NaN</td>\n",
       "      <td>NaN</td>\n",
       "      <td>NaN</td>\n",
       "      <td>NaN</td>\n",
       "      <td>NaN</td>\n",
       "      <td>NaN</td>\n",
       "      <td>NaN</td>\n",
       "      <td>499.5</td>\n",
       "    </tr>\n",
       "    <tr>\n",
       "      <th>2</th>\n",
       "      <td>United Arab Emirates</td>\n",
       "      <td>\"AE</td>\n",
       "      <td>None</td>\n",
       "      <td>30-34</td>\n",
       "      <td>Man</td>\n",
       "      <td>Doctoral degree</td>\n",
       "      <td>Product/Project Manager</td>\n",
       "      <td>3-5 years</td>\n",
       "      <td>Python</td>\n",
       "      <td>NaN</td>\n",
       "      <td>...</td>\n",
       "      <td>NaN</td>\n",
       "      <td>NaN</td>\n",
       "      <td>NaN</td>\n",
       "      <td>NaN</td>\n",
       "      <td>NaN</td>\n",
       "      <td>NaN</td>\n",
       "      <td>NaN</td>\n",
       "      <td>NaN</td>\n",
       "      <td>NaN</td>\n",
       "      <td>12499.5</td>\n",
       "    </tr>\n",
       "    <tr>\n",
       "      <th>3</th>\n",
       "      <td>United Arab Emirates</td>\n",
       "      <td>\"AE</td>\n",
       "      <td>None</td>\n",
       "      <td>25-29</td>\n",
       "      <td>Man</td>\n",
       "      <td>Bachelor’s degree</td>\n",
       "      <td>Other</td>\n",
       "      <td>&lt; 1 years</td>\n",
       "      <td>Python</td>\n",
       "      <td>R</td>\n",
       "      <td>...</td>\n",
       "      <td>NaN</td>\n",
       "      <td>NaN</td>\n",
       "      <td>NaN</td>\n",
       "      <td>NaN</td>\n",
       "      <td>NaN</td>\n",
       "      <td>NaN</td>\n",
       "      <td>NaN</td>\n",
       "      <td>NaN</td>\n",
       "      <td>NaN</td>\n",
       "      <td>499.5</td>\n",
       "    </tr>\n",
       "    <tr>\n",
       "      <th>4</th>\n",
       "      <td>United Arab Emirates</td>\n",
       "      <td>\"AE</td>\n",
       "      <td>None</td>\n",
       "      <td>30-34</td>\n",
       "      <td>Man</td>\n",
       "      <td>Master’s degree</td>\n",
       "      <td>Software Engineer</td>\n",
       "      <td>&lt; 1 years</td>\n",
       "      <td>Python</td>\n",
       "      <td>NaN</td>\n",
       "      <td>...</td>\n",
       "      <td>NaN</td>\n",
       "      <td>NaN</td>\n",
       "      <td>TensorBoard</td>\n",
       "      <td>NaN</td>\n",
       "      <td>Polyaxon</td>\n",
       "      <td>Trains</td>\n",
       "      <td>NaN</td>\n",
       "      <td>NaN</td>\n",
       "      <td>NaN</td>\n",
       "      <td>499.5</td>\n",
       "    </tr>\n",
       "    <tr>\n",
       "      <th>...</th>\n",
       "      <td>...</td>\n",
       "      <td>...</td>\n",
       "      <td>...</td>\n",
       "      <td>...</td>\n",
       "      <td>...</td>\n",
       "      <td>...</td>\n",
       "      <td>...</td>\n",
       "      <td>...</td>\n",
       "      <td>...</td>\n",
       "      <td>...</td>\n",
       "      <td>...</td>\n",
       "      <td>...</td>\n",
       "      <td>...</td>\n",
       "      <td>...</td>\n",
       "      <td>...</td>\n",
       "      <td>...</td>\n",
       "      <td>...</td>\n",
       "      <td>...</td>\n",
       "      <td>...</td>\n",
       "      <td>...</td>\n",
       "      <td>...</td>\n",
       "    </tr>\n",
       "    <tr>\n",
       "      <th>4170</th>\n",
       "      <td>South Africa</td>\n",
       "      <td>\"ZA</td>\n",
       "      <td>ZW,SZ,MZ,BW,NA,LS</td>\n",
       "      <td>35-39</td>\n",
       "      <td>Man</td>\n",
       "      <td>Master’s degree</td>\n",
       "      <td>Product/Project Manager</td>\n",
       "      <td>3-5 years</td>\n",
       "      <td>Python</td>\n",
       "      <td>NaN</td>\n",
       "      <td>...</td>\n",
       "      <td>NaN</td>\n",
       "      <td>NaN</td>\n",
       "      <td>NaN</td>\n",
       "      <td>NaN</td>\n",
       "      <td>NaN</td>\n",
       "      <td>NaN</td>\n",
       "      <td>NaN</td>\n",
       "      <td>NaN</td>\n",
       "      <td>NaN</td>\n",
       "      <td>499.5</td>\n",
       "    </tr>\n",
       "    <tr>\n",
       "      <th>4171</th>\n",
       "      <td>South Africa</td>\n",
       "      <td>\"ZA</td>\n",
       "      <td>ZW,SZ,MZ,BW,NA,LS</td>\n",
       "      <td>35-39</td>\n",
       "      <td>Man</td>\n",
       "      <td>Bachelor’s degree</td>\n",
       "      <td>Business Analyst</td>\n",
       "      <td>I have never written code</td>\n",
       "      <td>NaN</td>\n",
       "      <td>NaN</td>\n",
       "      <td>...</td>\n",
       "      <td>NaN</td>\n",
       "      <td>NaN</td>\n",
       "      <td>NaN</td>\n",
       "      <td>NaN</td>\n",
       "      <td>NaN</td>\n",
       "      <td>NaN</td>\n",
       "      <td>NaN</td>\n",
       "      <td>None</td>\n",
       "      <td>NaN</td>\n",
       "      <td>499.5</td>\n",
       "    </tr>\n",
       "    <tr>\n",
       "      <th>4172</th>\n",
       "      <td>South Africa</td>\n",
       "      <td>\"ZA</td>\n",
       "      <td>ZW,SZ,MZ,BW,NA,LS</td>\n",
       "      <td>55-59</td>\n",
       "      <td>Man</td>\n",
       "      <td>Master’s degree</td>\n",
       "      <td>Data Engineer</td>\n",
       "      <td>1-2 years</td>\n",
       "      <td>Python</td>\n",
       "      <td>R</td>\n",
       "      <td>...</td>\n",
       "      <td>NaN</td>\n",
       "      <td>NaN</td>\n",
       "      <td>NaN</td>\n",
       "      <td>NaN</td>\n",
       "      <td>NaN</td>\n",
       "      <td>NaN</td>\n",
       "      <td>NaN</td>\n",
       "      <td>NaN</td>\n",
       "      <td>NaN</td>\n",
       "      <td>499.5</td>\n",
       "    </tr>\n",
       "    <tr>\n",
       "      <th>4173</th>\n",
       "      <td>South Africa</td>\n",
       "      <td>\"ZA</td>\n",
       "      <td>ZW,SZ,MZ,BW,NA,LS</td>\n",
       "      <td>40-44</td>\n",
       "      <td>Man</td>\n",
       "      <td>Master’s degree</td>\n",
       "      <td>Research Scientist</td>\n",
       "      <td>20+ years</td>\n",
       "      <td>NaN</td>\n",
       "      <td>R</td>\n",
       "      <td>...</td>\n",
       "      <td>NaN</td>\n",
       "      <td>NaN</td>\n",
       "      <td>NaN</td>\n",
       "      <td>NaN</td>\n",
       "      <td>NaN</td>\n",
       "      <td>NaN</td>\n",
       "      <td>NaN</td>\n",
       "      <td>NaN</td>\n",
       "      <td>NaN</td>\n",
       "      <td>4999.5</td>\n",
       "    </tr>\n",
       "    <tr>\n",
       "      <th>4174</th>\n",
       "      <td>South Africa</td>\n",
       "      <td>\"ZA</td>\n",
       "      <td>ZW,SZ,MZ,BW,NA,LS</td>\n",
       "      <td>25-29</td>\n",
       "      <td>Man</td>\n",
       "      <td>Bachelor’s degree</td>\n",
       "      <td>Statistician</td>\n",
       "      <td>I have never written code</td>\n",
       "      <td>NaN</td>\n",
       "      <td>NaN</td>\n",
       "      <td>...</td>\n",
       "      <td>NaN</td>\n",
       "      <td>NaN</td>\n",
       "      <td>NaN</td>\n",
       "      <td>NaN</td>\n",
       "      <td>NaN</td>\n",
       "      <td>NaN</td>\n",
       "      <td>NaN</td>\n",
       "      <td>NaN</td>\n",
       "      <td>NaN</td>\n",
       "      <td>2499.5</td>\n",
       "    </tr>\n",
       "  </tbody>\n",
       "</table>\n",
       "<p>4175 rows × 357 columns</p>\n",
       "</div>"
      ],
      "text/plain": [
       "                   Country CountryCode         neighbours    Age Gender  \\\n",
       "0     United Arab Emirates         \"AE               None  30-34    Man   \n",
       "1     United Arab Emirates         \"AE               None  40-44    Man   \n",
       "2     United Arab Emirates         \"AE               None  30-34    Man   \n",
       "3     United Arab Emirates         \"AE               None  25-29    Man   \n",
       "4     United Arab Emirates         \"AE               None  30-34    Man   \n",
       "...                    ...         ...                ...    ...    ...   \n",
       "4170          South Africa         \"ZA  ZW,SZ,MZ,BW,NA,LS  35-39    Man   \n",
       "4171          South Africa         \"ZA  ZW,SZ,MZ,BW,NA,LS  35-39    Man   \n",
       "4172          South Africa         \"ZA  ZW,SZ,MZ,BW,NA,LS  55-59    Man   \n",
       "4173          South Africa         \"ZA  ZW,SZ,MZ,BW,NA,LS  40-44    Man   \n",
       "4174          South Africa         \"ZA  ZW,SZ,MZ,BW,NA,LS  25-29    Man   \n",
       "\n",
       "                Education               Occupation           CodingExperience  \\\n",
       "0         Master’s degree       Research Scientist                 5-10 years   \n",
       "1     Professional degree                    Other  I have never written code   \n",
       "2         Doctoral degree  Product/Project Manager                  3-5 years   \n",
       "3       Bachelor’s degree                    Other                  < 1 years   \n",
       "4         Master’s degree        Software Engineer                  < 1 years   \n",
       "...                   ...                      ...                        ...   \n",
       "4170      Master’s degree  Product/Project Manager                  3-5 years   \n",
       "4171    Bachelor’s degree         Business Analyst  I have never written code   \n",
       "4172      Master’s degree            Data Engineer                  1-2 years   \n",
       "4173      Master’s degree       Research Scientist                  20+ years   \n",
       "4174    Bachelor’s degree             Statistician  I have never written code   \n",
       "\n",
       "     Q7_Part_1 Q7_Part_2  ... Q35_B_Part_3 Q35_B_Part_4   Q35_B_Part_5  \\\n",
       "0       Python       NaN  ...          NaN          NaN            NaN   \n",
       "1          NaN       NaN  ...          NaN          NaN            NaN   \n",
       "2       Python       NaN  ...          NaN          NaN            NaN   \n",
       "3       Python         R  ...          NaN          NaN            NaN   \n",
       "4       Python       NaN  ...          NaN          NaN   TensorBoard    \n",
       "...        ...       ...  ...          ...          ...            ...   \n",
       "4170    Python       NaN  ...          NaN          NaN            NaN   \n",
       "4171       NaN       NaN  ...          NaN          NaN            NaN   \n",
       "4172    Python         R  ...          NaN          NaN            NaN   \n",
       "4173       NaN         R  ...          NaN          NaN            NaN   \n",
       "4174       NaN       NaN  ...          NaN          NaN            NaN   \n",
       "\n",
       "     Q35_B_Part_6 Q35_B_Part_7 Q35_B_Part_8 Q35_B_Part_9 Q35_B_Part_10  \\\n",
       "0             NaN          NaN          NaN          NaN           NaN   \n",
       "1             NaN          NaN          NaN          NaN           NaN   \n",
       "2             NaN          NaN          NaN          NaN           NaN   \n",
       "3             NaN          NaN          NaN          NaN           NaN   \n",
       "4             NaN    Polyaxon       Trains           NaN           NaN   \n",
       "...           ...          ...          ...          ...           ...   \n",
       "4170          NaN          NaN          NaN          NaN           NaN   \n",
       "4171          NaN          NaN          NaN          NaN          None   \n",
       "4172          NaN          NaN          NaN          NaN           NaN   \n",
       "4173          NaN          NaN          NaN          NaN           NaN   \n",
       "4174          NaN          NaN          NaN          NaN           NaN   \n",
       "\n",
       "     Q35_B_OTHER ConvertedComp  \n",
       "0            NaN        2499.5  \n",
       "1            NaN         499.5  \n",
       "2            NaN       12499.5  \n",
       "3            NaN         499.5  \n",
       "4            NaN         499.5  \n",
       "...          ...           ...  \n",
       "4170         NaN         499.5  \n",
       "4171         NaN         499.5  \n",
       "4172         NaN         499.5  \n",
       "4173         NaN        4999.5  \n",
       "4174         NaN        2499.5  \n",
       "\n",
       "[4175 rows x 357 columns]"
      ]
     },
     "execution_count": 13,
     "metadata": {},
     "output_type": "execute_result"
    }
   ],
   "source": [
    "import pandas as pd\n",
    "country_info = pd.read_csv('countryInfo.csv',sep='\\t+',skiprows=[i for i in range(0,49)],index_col='Country')\n",
    "country_info = country_info.filter(items=['\"#ISO','Country','neighbours'])\n",
    "country_info.rename(inplace=True,columns={'\"#ISO':'CountryCode'})\n",
    "merged_survey = pd.merge(left=country_info, right=df,left_on='Country',right_on='Country')\n",
    "merged_survey"
   ]
  },
  {
   "cell_type": "markdown",
   "metadata": {},
   "source": [
    "## Soru 14:\n",
    "Almanya ve komşu ülkeleri için ankete katılanlardan doktoralıların ülke bazında yüzdelerini, ülke isimlerine göre alfabetik sırada listeleyiniz."
   ]
  },
  {
   "cell_type": "code",
   "execution_count": 14,
   "metadata": {},
   "outputs": [
    {
     "data": {
      "text/plain": [
       "[('Belgium', 30.76923076923077),\n",
       " ('France', 26.53061224489796),\n",
       " ('Germany', 37.2093023255814),\n",
       " ('Netherlands', 16.666666666666668),\n",
       " ('Poland', 20.0),\n",
       " ('Switzerland', 37.93103448275862)]"
      ]
     },
     "execution_count": 14,
     "metadata": {},
     "output_type": "execute_result"
    }
   ],
   "source": [
    "CountryCode=merged_survey[merged_survey.Country=='Germany'].neighbours.value_counts()\n",
    "CountryCode\n",
    "normal=merged_survey[(merged_survey.CountryCode=='\"CH')|(merged_survey.CountryCode=='\"PL')|(merged_survey.CountryCode=='\"NL')|(merged_survey.CountryCode=='\"DK')|(merged_survey.CountryCode=='\"BE')|(merged_survey.CountryCode=='\"CZ')|(merged_survey.CountryCode=='\"LU')|(merged_survey.CountryCode=='\"FR')|(merged_survey.CountryCode=='\"AT')|(merged_survey.CountryCode=='\"DE')].groupby('Country').Education.count()\n",
    "doctoral=merged_survey[(merged_survey.CountryCode=='\"CH')|(merged_survey.CountryCode=='\"PL')|(merged_survey.CountryCode=='\"NL')|(merged_survey.CountryCode=='\"DK')|(merged_survey.CountryCode=='\"BE')|(merged_survey.CountryCode=='\"CZ')|(merged_survey.CountryCode=='\"LU')|(merged_survey.CountryCode=='\"FR')|(merged_survey.CountryCode=='\"AT')|(merged_survey.CountryCode=='\"DE')].groupby('Education').get_group('Doctoral degree').Country.value_counts()\n",
    "perc=(doctoral*100)/normal\n",
    "sorted(perc.items() , key=lambda item: item[0], reverse=False)"
   ]
  }
 ],
 "metadata": {
  "kernelspec": {
   "display_name": "Python 3",
   "language": "python",
   "name": "python3"
  },
  "language_info": {
   "codemirror_mode": {
    "name": "ipython",
    "version": 3
   },
   "file_extension": ".py",
   "mimetype": "text/x-python",
   "name": "python",
   "nbconvert_exporter": "python",
   "pygments_lexer": "ipython3",
   "version": "3.8.5"
  }
 },
 "nbformat": 4,
 "nbformat_minor": 4
}
